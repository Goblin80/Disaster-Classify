{
 "cells": [
  {
   "cell_type": "code",
   "execution_count": 1,
   "metadata": {},
   "outputs": [],
   "source": [
    "from cosineOracle import CosineOracle\n",
    "from calamity import Calamity"
   ]
  },
  {
   "cell_type": "code",
   "execution_count": 2,
   "metadata": {},
   "outputs": [
    {
     "name": "stdout",
     "output_type": "stream",
     "text": [
      "[+] New event stan had been added\n",
      "[+] New event maria had been added\n",
      "[+] New event matthew had been added\n",
      "[+] New event katrina had been added\n",
      "[+] New event irma had been added\n",
      "[+] New event jeanne had been added\n",
      "[+] New event kashmir had been added\n",
      "[+] New event haiti had been added\n",
      "[+] New event sumatra had been added\n",
      "[+] New event sichuan had been added\n",
      "[+] New event attica had been added\n",
      "[+] New event thomas had been added\n",
      "[+] New event nevada had been added\n",
      "[+] New event carr had been added\n",
      "[+] New event mountcarmel had been added\n",
      "[+] New event virginiatech had been added\n",
      "[+] New event sandyhook had been added\n",
      "[+] New event aurora had been added\n",
      "[+] New event sanbernardino had been added\n",
      "[+] New event orlando had been added\n",
      "[+] New event lasvegas had been added\n",
      "[+] New event charliehebdo had been added\n",
      "[+] New event japan18 had been added\n",
      "[+] New event kerala had been added\n",
      "[+] New event gujarat had been added\n",
      "Object has been successfully loaded\n"
     ]
    }
   ],
   "source": [
    "archive = Calamity('disaster-archive')"
   ]
  },
  {
   "cell_type": "code",
   "execution_count": 3,
   "metadata": {},
   "outputs": [
    {
     "data": {
      "text/plain": [
       "[('hurricanes', 'stan', 30),\n",
       " ('hurricanes', 'maria', 98),\n",
       " ('hurricanes', 'matthew', 100),\n",
       " ('hurricanes', 'katrina', 99),\n",
       " ('hurricanes', 'irma', 64),\n",
       " ('hurricanes', 'jeanne', 35),\n",
       " ('earthquakes', 'kashmir', 59),\n",
       " ('earthquakes', 'haiti', 100),\n",
       " ('earthquakes', 'sumatra', 86),\n",
       " ('earthquakes', 'sichuan', 100),\n",
       " ('wildfires', 'attica', 100),\n",
       " ('wildfires', 'thomas', 82),\n",
       " ('wildfires', 'nevada', 95),\n",
       " ('wildfires', 'carr', 100),\n",
       " ('wildfires', 'mountcarmel', 19),\n",
       " ('shootings', 'virginiatech', 100),\n",
       " ('shootings', 'sandyhook', 99),\n",
       " ('shootings', 'aurora', 100),\n",
       " ('shootings', 'sanbernardino', 97),\n",
       " ('shootings', 'orlando', 99),\n",
       " ('shootings', 'lasvegas', 100),\n",
       " ('shootings', 'charliehebdo', 100),\n",
       " ('floods', 'japan18', 101),\n",
       " ('floods', 'kerala', 100),\n",
       " ('floods', 'gujarat', 80)]"
      ]
     },
     "execution_count": 3,
     "metadata": {},
     "output_type": "execute_result"
    }
   ],
   "source": [
    "archive.listTopics()"
   ]
  },
  {
   "cell_type": "code",
   "execution_count": 4,
   "metadata": {},
   "outputs": [],
   "source": [
    "topics = [\n",
    "    'hurricanes',\n",
    "    'earthquakes',\n",
    "    'wildfires',\n",
    "    'shootings',\n",
    "    'floods'\n",
    "]"
   ]
  },
  {
   "cell_type": "code",
   "execution_count": 5,
   "metadata": {},
   "outputs": [],
   "source": [
    "TRAIN_SIZE = 150\n",
    "CHUNK = 200\n",
    "temple_topics = []\n",
    "for t in topics:\n",
    "    data = archive.mergeTopicArticles(topicLabelArr=[t], limit=CHUNK)\n",
    "    train_data = [x['text'] for x in data[:TRAIN_SIZE]]\n",
    "    test_data = [x['text'] for x in data[TRAIN_SIZE:]]\n",
    "    temple_topics.append(CosineOracle(train_data, test_data, t))"
   ]
  },
  {
   "cell_type": "code",
   "execution_count": 6,
   "metadata": {},
   "outputs": [
    {
     "name": "stdout",
     "output_type": "stream",
     "text": [
      "     hurricanes 0.64000\n",
      "    earthquakes 0.84000\n",
      "      wildfires 0.54000\n",
      "      shootings 0.70000\n",
      "         floods 0.60000\n"
     ]
    }
   ],
   "source": [
    "for x in temple_topics:\n",
    "    print(\"%15s %.5f\" % (x.tag, x.precision()))"
   ]
  },
  {
   "cell_type": "code",
   "execution_count": 7,
   "metadata": {},
   "outputs": [],
   "source": [
    "events = [\n",
    "    'maria',\n",
    "    'matthew',\n",
    "    'katrina',\n",
    "    'haiti',\n",
    "    'sumatra',\n",
    "    'sichuan',\n",
    "    'attica',\n",
    "    'thomas',\n",
    "    'nevada',\n",
    "    'carr',\n",
    "    'virginiatech',\n",
    "    'sandyhook',\n",
    "    'aurora',\n",
    "    'sanbernardino',\n",
    "    'orlando',\n",
    "    'lasvegas',\n",
    "    'charliehebdo',\n",
    "    'japan18',\n",
    "    'kerala'\n",
    "]"
   ]
  },
  {
   "cell_type": "code",
   "execution_count": 8,
   "metadata": {},
   "outputs": [],
   "source": [
    "TRAIN_SIZE = 50\n",
    "CHUNK = 100\n",
    "temple_events = []\n",
    "for t in events:\n",
    "    data = archive.mergeEventArticles(eventLabelArr=[t], limit=CHUNK)\n",
    "    train_data = [x['text'] for x in data[:TRAIN_SIZE]]\n",
    "    test_data = [x['text'] for x in data[TRAIN_SIZE:]]\n",
    "    temple_events.append(CosineOracle(train_data, test_data, t))"
   ]
  },
  {
   "cell_type": "code",
   "execution_count": 9,
   "metadata": {},
   "outputs": [
    {
     "name": "stdout",
     "output_type": "stream",
     "text": [
      "          maria 0.79167\n",
      "        matthew 0.66000\n",
      "        katrina 0.77551\n",
      "          haiti 0.78000\n",
      "        sumatra 0.94444\n",
      "        sichuan 0.88000\n",
      "         attica 0.42000\n",
      "         thomas 0.78125\n",
      "         nevada 0.71111\n",
      "           carr 0.88000\n",
      "   virginiatech 0.86000\n",
      "      sandyhook 0.73469\n",
      "         aurora 0.68000\n",
      "  sanbernardino 0.80851\n",
      "        orlando 0.75510\n",
      "       lasvegas 0.78000\n",
      "   charliehebdo 0.80000\n",
      "        japan18 0.56000\n",
      "         kerala 0.74000\n"
     ]
    }
   ],
   "source": [
    "for x in temple_events:\n",
    "    print(\"%15s %.5f\" % (x.tag, x.precision()))"
   ]
  },
  {
   "cell_type": "code",
   "execution_count": null,
   "metadata": {},
   "outputs": [],
   "source": []
  }
 ],
 "metadata": {
  "kernelspec": {
   "display_name": "Python 3",
   "language": "python",
   "name": "python3"
  },
  "language_info": {
   "codemirror_mode": {
    "name": "ipython",
    "version": 3
   },
   "file_extension": ".py",
   "mimetype": "text/x-python",
   "name": "python",
   "nbconvert_exporter": "python",
   "pygments_lexer": "ipython3",
   "version": "3.6.5"
  }
 },
 "nbformat": 4,
 "nbformat_minor": 2
}
