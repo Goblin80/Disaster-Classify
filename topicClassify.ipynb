{
 "cells": [
  {
   "cell_type": "code",
   "execution_count": 1,
   "metadata": {},
   "outputs": [],
   "source": [
    "import sys\n",
    "import glob\n",
    "import numpy"
   ]
  },
  {
   "cell_type": "code",
   "execution_count": 1,
   "metadata": {},
   "outputs": [],
   "source": [
    "from sklearn.feature_extraction.text import CountVectorizer\n",
    "from sklearn.feature_extraction.text import TfidfTransformer\n",
    "from sklearn.pipeline import Pipeline\n",
    "\n",
    "from sklearn.linear_model import SGDClassifier\n",
    "from sklearn.linear_model import LogisticRegression\n",
    "from sklearn.linear_model import PassiveAggressiveClassifier\n",
    "\n",
    "from sklearn.neighbors import KNeighborsClassifier\n",
    "\n",
    "from sklearn.naive_bayes import MultinomialNB\n",
    "from sklearn.ensemble import RandomForestClassifier\n",
    "from sklearn.svm import LinearSVC\n",
    "\n",
    "from sklearn.metrics import confusion_matrix\n",
    "from sklearn.metrics import classification_report"
   ]
  },
  {
   "cell_type": "code",
   "execution_count": 3,
   "metadata": {},
   "outputs": [],
   "source": [
    "def sz(a): # str/eval\n",
    "    return {\n",
    "        'text': a.text,\n",
    "        'title': a.title,\n",
    "        'url': a.url,\n",
    "        'keywords': a.keywords,\n",
    "        'tags': a.tags,\n",
    "        'summary': a.summary,\n",
    "        'date': int(a.publish_date.timestamp()) if a.publish_date != None else None,\n",
    "        'raw' : a.html\n",
    "    }"
   ]
  },
  {
   "cell_type": "code",
   "execution_count": 4,
   "metadata": {},
   "outputs": [],
   "source": [
    "def objRead(f):\n",
    "    return eval(open(f, 'r').read())\n",
    "\n",
    "def objWrite(f, data):\n",
    "    f = f.split('.')[0]\n",
    "    open(f + '.obj', 'w').write(str(data))"
   ]
  },
  {
   "cell_type": "code",
   "execution_count": 5,
   "metadata": {},
   "outputs": [
    {
     "name": "stdout",
     "output_type": "stream",
     "text": [
      "other.obj\n",
      "disasters/shootings/lasvegas.obj\n",
      "disasters/shootings/orlando.obj\n",
      "disasters/shootings/sandyhook.obj\n",
      "disasters/shootings/sanbernardino.obj\n",
      "disasters/earthquakes/kashmir.obj\n",
      "disasters/earthquakes/haiti.obj\n",
      "disasters/earthquakes/sumatra.obj\n",
      "disasters/earthquakes/sichuan.obj\n",
      "disasters/wildfires/mountcarmel.obj\n",
      "disasters/wildfires/attica.obj\n",
      "disasters/wildfires/nevada.obj\n",
      "disasters/wildfires/thomas.obj\n",
      "disasters/hurricanes/maria.obj\n",
      "disasters/hurricanes/katrina.obj\n",
      "disasters/hurricanes/jeanne.obj\n",
      "disasters/hurricanes/stan.obj\n"
     ]
    }
   ],
   "source": [
    "for f in glob.iglob('**/*.obj', recursive=True):\n",
    "    print(f)"
   ]
  },
  {
   "cell_type": "code",
   "execution_count": 6,
   "metadata": {},
   "outputs": [],
   "source": [
    "katrina = objRead('disasters/hurricanes/katrina.obj')\n",
    "sandy = objRead('disasters/shootings/sandyhook.obj')\n",
    "haiti = objRead('disasters/earthquakes/haiti.obj')\n",
    "attica = objRead('disasters/wildfires/attica.obj')"
   ]
  },
  {
   "cell_type": "code",
   "execution_count": 7,
   "metadata": {},
   "outputs": [],
   "source": [
    "# data = [ katrina, sandy, haiti, attica ]\n",
    "data = [\n",
    "    objRead('disasters/shootings/lasvegas.obj'),\n",
    "    objRead('disasters/shootings/orlando.obj'),\n",
    "    objRead('disasters/shootings/sandyhook.obj'),\n",
    "    objRead('disasters/shootings/sanbernardino.obj'),\n",
    "    objRead('disasters/earthquakes/kashmir.obj'),\n",
    "    objRead('disasters/earthquakes/haiti.obj'),\n",
    "    objRead('disasters/earthquakes/sumatra.obj'),\n",
    "    objRead('disasters/earthquakes/sichuan.obj'),\n",
    "    objRead('disasters/wildfires/mountcarmel.obj'),\n",
    "    objRead('disasters/wildfires/attica.obj'),\n",
    "    objRead('disasters/wildfires/nevada.obj'),\n",
    "    objRead('disasters/wildfires/thomas.obj'),\n",
    "    objRead('disasters/hurricanes/maria.obj'),\n",
    "    objRead('disasters/hurricanes/katrina.obj'),\n",
    "    objRead('disasters/hurricanes/jeanne.obj'),\n",
    "    objRead('disasters/hurricanes/stan.obj')\n",
    "]\n",
    "\n",
    "train_data = []\n",
    "train_label = numpy.array([])\n",
    "\n",
    "test_data = []\n",
    "test_label = numpy.array([])\n",
    "\n",
    "TRAIN_SIZE = 30\n",
    "l = 0\n",
    "\n",
    "for cat in data:\n",
    "    for x in cat[:TRAIN_SIZE]:\n",
    "        train_data.append(x['text'])\n",
    "        train_label = numpy.append(train_label, l)\n",
    "    for x in cat[TRAIN_SIZE:]:\n",
    "        test_data.append(x['text'])\n",
    "        test_label = numpy.append(test_label, l)\n",
    "    l += 1"
   ]
  },
  {
   "cell_type": "code",
   "execution_count": 8,
   "metadata": {},
   "outputs": [],
   "source": [
    "classifiers = [\n",
    "    SGDClassifier(loss='hinge',\n",
    "                  penalty='elasticnet',\n",
    "                  alpha=1e-3,\n",
    "                  max_iter=1000,\n",
    "                  tol=None),\n",
    "    MultinomialNB(),\n",
    "    PassiveAggressiveClassifier(max_iter=200),\n",
    "    KNeighborsClassifier(n_neighbors=10),\n",
    "    RandomForestClassifier(n_estimators=200,\n",
    "                           max_depth=3,\n",
    "                           random_state=0),\n",
    "    LogisticRegression(random_state=0),\n",
    "    LinearSVC()\n",
    "]"
   ]
  },
  {
   "cell_type": "code",
   "execution_count": 9,
   "metadata": {},
   "outputs": [
    {
     "name": "stdout",
     "output_type": "stream",
     "text": [
      "SGDClassifier 0.8854679802955665\n",
      "MultinomialNB 0.8201970443349754\n",
      "PassiveAggressiveClassifier 0.8731527093596059\n",
      "KNeighborsClassifier 0.6724137931034483\n",
      "RandomForestClassifier 0.8497536945812808\n",
      "LogisticRegression 0.8731527093596059\n",
      "LinearSVC 0.8854679802955665\n"
     ]
    }
   ],
   "source": [
    "for c in classifiers:\n",
    "    clf = Pipeline([('vect', CountVectorizer()),\n",
    "                    ('tfidf', TfidfTransformer()),\n",
    "                    ('clf', c),\n",
    "    ])\n",
    "    clf.fit(train_data, train_label)\n",
    "    acc = numpy.mean(clf.predict(test_data) == test_label)\n",
    "    print(type(c).__name__, acc)"
   ]
  },
  {
   "cell_type": "code",
   "execution_count": 10,
   "metadata": {},
   "outputs": [
    {
     "data": {
      "text/plain": [
       "array([[49,  0,  0,  0,  0,  0,  0,  0,  0,  0,  0,  0,  0,  0,  0],\n",
       "       [ 0, 58,  0,  0,  0,  0,  0,  0,  0,  0,  0,  0,  0,  0,  0],\n",
       "       [ 3,  0, 64,  0,  0,  1,  0,  0,  0,  1,  0,  0,  0,  0,  0],\n",
       "       [ 1,  1,  0, 61,  1,  0,  1,  0,  0,  1,  0,  0,  0,  0,  0],\n",
       "       [ 0,  0,  0,  0, 27,  1,  0,  0,  0,  0,  0,  0,  0,  0,  0],\n",
       "       [ 0,  0,  0,  0,  1, 58,  0,  0,  0,  0,  1,  0,  0,  0,  0],\n",
       "       [ 0,  0,  0,  0,  0,  0, 45,  1,  0,  0,  0,  0,  0,  0,  0],\n",
       "       [ 0,  0,  0,  0,  0,  1,  2, 62,  0,  0,  0,  0,  0,  0,  0],\n",
       "       [ 0,  0,  0,  0,  0,  0,  0,  0, 68,  0,  0,  0,  0,  0,  0],\n",
       "       [ 1,  0,  0,  2,  0,  0,  2,  0,  1, 57,  6,  2,  0,  0,  0],\n",
       "       [ 1,  2,  0,  3,  0,  0,  0,  0,  0,  5, 41,  3,  0,  0,  0],\n",
       "       [ 4,  1,  1,  1,  0,  0,  0,  0,  0,  1,  2, 58,  0,  0,  0],\n",
       "       [ 7,  3,  3,  0,  0,  6,  4,  1,  1,  1,  1,  6, 68,  2,  0],\n",
       "       [ 0,  0,  0,  0,  0,  0,  0,  0,  0,  0,  0,  1,  1,  3,  0],\n",
       "       [ 0,  0,  0,  0,  0,  0,  0,  0,  0,  0,  0,  0,  1,  0,  0]])"
      ]
     },
     "execution_count": 10,
     "metadata": {},
     "output_type": "execute_result"
    }
   ],
   "source": [
    "confusion_matrix(clf.predict(test_data), test_label)"
   ]
  }
 ],
 "metadata": {
  "kernelspec": {
   "display_name": "Python 3",
   "language": "python",
   "name": "python3"
  },
  "language_info": {
   "codemirror_mode": {
    "name": "ipython",
    "version": 3
   },
   "file_extension": ".py",
   "mimetype": "text/x-python",
   "name": "python",
   "nbconvert_exporter": "python",
   "pygments_lexer": "ipython3",
   "version": "3.6.5"
  }
 },
 "nbformat": 4,
 "nbformat_minor": 2
}
