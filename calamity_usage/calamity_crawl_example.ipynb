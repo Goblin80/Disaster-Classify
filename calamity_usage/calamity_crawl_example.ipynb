{
 "cells": [
  {
   "cell_type": "code",
   "execution_count": 1,
   "metadata": {},
   "outputs": [],
   "source": [
    "import glob\n",
    "from calamity import Calamity"
   ]
  },
  {
   "cell_type": "code",
   "execution_count": 2,
   "metadata": {},
   "outputs": [
    {
     "name": "stdout",
     "output_type": "stream",
     "text": [
      "disaster-archive not found, nvm creating a new empty one\n"
     ]
    }
   ],
   "source": [
    "a = Calamity('disaster-archive')"
   ]
  },
  {
   "cell_type": "code",
   "execution_count": 3,
   "metadata": {},
   "outputs": [
    {
     "name": "stdout",
     "output_type": "stream",
     "text": [
      "disasters/hurricanes/stan.url\n",
      "disasters/hurricanes/maria.url\n",
      "disasters/hurricanes/matthew.url\n",
      "disasters/hurricanes/katrina.url\n",
      "disasters/hurricanes/irma.url\n",
      "disasters/hurricanes/jeanne.url\n",
      "disasters/earthquakes/kashmir.url\n",
      "disasters/earthquakes/haiti.url\n",
      "disasters/earthquakes/sumatra.url\n",
      "disasters/earthquakes/sichuan.url\n",
      "disasters/wildfires/attica.url\n",
      "disasters/wildfires/thomas.url\n",
      "disasters/wildfires/nevada.url\n",
      "disasters/wildfires/carr.url\n",
      "disasters/wildfires/mountcarmel.url\n",
      "disasters/shootings/virginiatech.url\n",
      "disasters/shootings/sandyhook.url\n",
      "disasters/shootings/aurora.url\n",
      "disasters/shootings/sanbernardino.url\n",
      "disasters/shootings/orlando.url\n",
      "disasters/shootings/lasvegas.url\n",
      "disasters/shootings/charliehebdo.url\n",
      "disasters/floods/japan18.url\n",
      "disasters/floods/kerala.url\n",
      "disasters/floods/gujarat.url\n"
     ]
    }
   ],
   "source": [
    "for f in glob.iglob('**/*.url', recursive=True):\n",
    "    print(f)"
   ]
  },
  {
   "cell_type": "code",
   "execution_count": 4,
   "metadata": {},
   "outputs": [
    {
     "name": "stderr",
     "output_type": "stream",
     "text": [
      "/root/anaconda3/lib/python3.6/site-packages/dateutil/parser/_parser.py:1204: UnknownTimezoneWarning: tzname ET identified but not understood.  Pass `tzinfos` argument in order to correctly return a timezone-aware datetime.  In a future version, this will raise an exception.\n",
      "  category=UnknownTimezoneWarning)\n"
     ]
    },
    {
     "name": "stdout",
     "output_type": "stream",
     "text": [
      "[+] Added 30 articles to stan\n",
      "[*] Removed 2 duplicate URLs\n",
      "[*] Obtained https://www.nytimes.com/2017/09/21/us/hurricane-maria-puerto-rico.html using requests instead\n",
      "[+] Added 98 articles to maria\n",
      "[+] Added 100 articles to matthew\n",
      "[X] Error at:  https://www.nytimes.com/2005/08/30/us/hurricane-katrina-slams-into-gulf-coast-dozens-are-dead.html\n",
      "Article `download()` failed with 503 Server Error: Service Unavailable for url: https://www.nytimes.com/2005/08/30/us/hurricane-katrina-slams-into-gulf-coast-dozens-are-dead.html on URL https://www.nytimes.com/2005/08/30/us/hurricane-katrina-slams-into-gulf-coast-dozens-are-dead.html\n",
      "[+] Added 99 articles to katrina\n",
      "[X] Error at:  https://edition.cnn.com/2017/09/07/world/iyw-help-for-hurricane-irma-victims/index.html\n",
      "Article `download()` failed with 503 Server Error: Server Error for url: https://edition.cnn.com/2017/09/07/world/iyw-help-for-hurricane-irma-victims/index.html on URL https://edition.cnn.com/2017/09/07/world/iyw-help-for-hurricane-irma-victims/index.html\n",
      "[*] Obtained https://www.accuweather.com/en/weather-news/hurricane-irma-to-track-toward-us-residents-of-east-and-gulf-coasts-urged-to-prepare-now/70002631 using requests instead\n",
      "[+] Added 64 articles to irma\n",
      "[+] Added 35 articles to jeanne\n",
      "[+] Added 59 articles to kashmir\n",
      "[+] Added 100 articles to haiti\n",
      "[X] Error at:  https://allafrica.com/stories/200501050193.html\n",
      "Article `download()` failed with 403 Client Error: Forbidden for url: https://allafrica.com/stories/200501050193.html on URL https://allafrica.com/stories/200501050193.html\n",
      "[*] Obtained https://www.tribuneindia.com/2004/20041230/main5.htm using requests instead\n",
      "[+] Added 86 articles to sumatra\n",
      "[+] Added 100 articles to sichuan\n",
      "[+] Added 100 articles to attica\n",
      "[*] Obtained https://www.accuweather.com/en/weather-news/thomas-fire-to-become-largest-wildfire-in-california-history-as-gusty-winds-dry-air-persist/70003588 using requests instead\n",
      "[*] Obtained https://edition.cnn.com/2017/12/14/us/california-fires/index.html using requests instead\n",
      "[*] Obtained https://edition.cnn.com/2017/12/08/us/california-wildfires/index.html using requests instead\n",
      "[*] Obtained https://www.accuweather.com/en/weather-news/why-california-wildfires-have-been-so-extreme-this-december/70003575 using requests instead\n",
      "[*] Obtained https://www.accuweather.com/en/weather-news/californias-2017-wildfire-season-to-rank-among-most-destructive-costly-on-record/70003704 using requests instead\n",
      "[+] Added 82 articles to thomas\n",
      "[*] Removed 4 duplicate URLs\n",
      "[X] Error at:  http://www.montereycountyweekly.com/blogs/news_blog/soberanes-fire-started-by-illegal-campfire-at-state-park/article_b245f994-5906-11e6-9ad4-1f9d1a346259.html\n",
      "Article `download()` failed with 429 Client Error: Too Many Requests for url: http://www.montereycountyweekly.com/blogs/news_blog/soberanes-fire-started-by-illegal-campfire-at-state-park/article_b245f994-5906-11e6-9ad4-1f9d1a346259.html on URL http://www.montereycountyweekly.com/blogs/news_blog/soberanes-fire-started-by-illegal-campfire-at-state-park/article_b245f994-5906-11e6-9ad4-1f9d1a346259.html\n",
      "[*] Obtained https://www.accuweather.com/en/weather-news/destructive-detwiler-fire-forces-evacuations-near-yosemite-national-park/70002230 using requests instead\n",
      "[*] Obtained https://www.usnews.com/news/us/articles/2017-07-18/winter-storms-fuel-western-wildfires-forcing-evacuations using requests instead\n",
      "[+] Added 95 articles to nevada\n",
      "[*] Obtained https://edition.cnn.com/2018/08/01/us/california-wildfires/index.html using requests instead\n",
      "[*] Obtained https://www.accuweather.com/en/weather-news/2-killed-hundreds-of-structures-destroyed-as-massive-carr-fire-blazes-into-redding-california/70005615 using requests instead\n",
      "[+] Added 100 articles to carr\n",
      "[+] Added 19 articles to mountcarmel\n",
      "[+] Added 100 articles to virginiatech\n",
      "[*] Obtained https://www.usnews.com/debate-club/did-the-sandy-hook-shooting-prove-the-need-for-more-gun-control using requests instead\n",
      "[*] Obtained https://www.usnews.com/opinion/articles/2012/12/21/sandy-hook-shooting-could-be-obamas-911-2 using requests instead\n",
      "[*] Obtained https://edition.cnn.com/2013/03/28/us/connecticut-shooting-documents/index.html using requests instead\n",
      "[X] Error at:  https://edition.cnn.com/2013/02/19/justice/connecticut-newtown-shooting/index.html\n",
      "Article `download()` failed with 503 Server Error: Server Error for url: https://edition.cnn.com/2013/02/19/justice/connecticut-newtown-shooting/index.html on URL https://edition.cnn.com/2013/02/19/justice/connecticut-newtown-shooting/index.html\n",
      "[*] Obtained https://edition.cnn.com/2015/01/21/us/sandy-hook-killer-home-demolition/index.html using requests instead\n",
      "[+] Added 99 articles to sandyhook\n",
      "[*] Obtained https://edition.cnn.com/2012/07/20/justice/colorado-shooting-victim-ghawi/index.html using requests instead\n"
     ]
    },
    {
     "name": "stderr",
     "output_type": "stream",
     "text": [
      "/root/anaconda3/lib/python3.6/site-packages/dateutil/parser/_parser.py:1204: UnknownTimezoneWarning: tzname PDT identified but not understood.  Pass `tzinfos` argument in order to correctly return a timezone-aware datetime.  In a future version, this will raise an exception.\n",
      "  category=UnknownTimezoneWarning)\n"
     ]
    },
    {
     "name": "stdout",
     "output_type": "stream",
     "text": [
      "[+] Added 100 articles to aurora\n",
      "[*] Removed 1 duplicate URLs\n",
      "[X] Error at:  https://www.theblaze.com/news/2015/12/06/syed-farooks-co-workers-once-collected-money-and-threw-baby-shower-for-him-and-his-wife\n",
      "Article `download()` failed with 503 Server Error: Service Unavailable for url: https://www.theblaze.com/news/2015/12/06/syed-farooks-co-workers-once-collected-money-and-threw-baby-shower-for-him-and-his-wife on URL https://www.theblaze.com/news/2015/12/06/syed-farooks-co-workers-once-collected-money-and-threw-baby-shower-for-him-and-his-wife\n",
      "[X] Error at:  https://www.echo.net.au/2015/12/three-dead-20-wounded-in-us-shooting/\n",
      "Article `download()` failed with 404 Client Error: Not Found for url: https://www.echo.net.au/2015/12/three-dead-20-wounded-in-us-shooting/ on URL https://www.echo.net.au/2015/12/three-dead-20-wounded-in-us-shooting/\n",
      "[+] Added 97 articles to sanbernardino\n",
      "[*] Removed 1 duplicate URLs\n",
      "[*] Obtained https://edition.cnn.com/2016/06/13/us/orlando-shooting-isis-ramadan-attacks/index.html using requests instead\n",
      "[*] Obtained https://www.usnews.com/news/articles/2016-06-13/democrats-no-fly-no-buy-gun-bill-could-have-prevented-orlando-killings using requests instead\n",
      "[+] Added 99 articles to orlando\n",
      "[*] Obtained https://edition.cnn.com/2017/10/02/politics/donald-trump-las-vegas-shooting-remarks/index.html using requests instead\n",
      "[*] Obtained https://edition.cnn.com/2017/10/02/us/las-vegas-shooting-victims/index.html using requests instead\n",
      "[*] Obtained https://www.newyorker.com/news/john-cassidy/after-the-las-vegas-shooting-jimmy-kimmel-names-names using requests instead\n",
      "[X] Error at:  https://edition.cnn.com/2017/11/01/us/las-vegas-shooting-1-month-questions/index.html\n",
      "Article `download()` failed with 503 Server Error: Server Error for url: https://edition.cnn.com/2017/11/01/us/las-vegas-shooting-1-month-questions/index.html on URL https://edition.cnn.com/2017/11/01/us/las-vegas-shooting-1-month-questions/index.html\n",
      "[+] Added 100 articles to lasvegas\n",
      "[+] Added 100 articles to charliehebdo\n",
      "[*] Obtained https://weather.com/news/news/2018-07-07-deadly-floods-southwestern-japan-okayama using requests instead\n",
      "[*] Obtained https://www.accuweather.com/en/weather-news/japan-flooding-disaster-death-toll-tops-200-heat-creates-new-dangers-for-survivors/70005470 using requests instead\n",
      "[*] Obtained https://www.usnews.com/news/world/articles/2018-07-12/japan-flood-toll-nears-200-sun-scorches-thousands-battling-thirst using requests instead\n",
      "[+] Added 101 articles to japan18\n",
      "[+] Added 100 articles to kerala\n",
      "[*] Obtained https://www.accuweather.com/en/weather-news/india-new-monsoon-low-threatens-flooding-in-eastern-india-this-week/70002205 using requests instead\n"
     ]
    },
    {
     "name": "stderr",
     "output_type": "stream",
     "text": [
      "/root/anaconda3/lib/python3.6/site-packages/dateutil/parser/_parser.py:1204: UnknownTimezoneWarning: tzname IST identified but not understood.  Pass `tzinfos` argument in order to correctly return a timezone-aware datetime.  In a future version, this will raise an exception.\n",
      "  category=UnknownTimezoneWarning)\n"
     ]
    },
    {
     "name": "stdout",
     "output_type": "stream",
     "text": [
      "[+] Added 80 articles to gujarat\n"
     ]
    }
   ],
   "source": [
    "a.fetch('hurricanes', 'stan', 2005,         urlfilepath='disasters/hurricanes/stan.url')\n",
    "a.fetch('hurricanes', 'maria', 2017,        urlfilepath='disasters/hurricanes/maria.url')\n",
    "a.fetch('hurricanes', 'matthew', 2016,      urlfilepath='disasters/hurricanes/matthew.url')\n",
    "a.fetch('hurricanes', 'katrina', 2005,      urlfilepath='disasters/hurricanes/katrina.url')\n",
    "a.fetch('hurricanes', 'irma', 2017,         urlfilepath='disasters/hurricanes/irma.url')\n",
    "a.fetch('hurricanes', 'jeanne', 2004,       urlfilepath='disasters/hurricanes/jeanne.url')\n",
    "a.fetch('earthquakes', 'kashmir', 2005,     urlfilepath='disasters/earthquakes/kashmir.url')\n",
    "a.fetch('earthquakes', 'haiti', 2010,       urlfilepath='disasters/earthquakes/haiti.url')\n",
    "a.fetch('earthquakes', 'sumatra', 2004,     urlfilepath='disasters/earthquakes/sumatra.url')\n",
    "a.fetch('earthquakes', 'sichuan', 2008,     urlfilepath='disasters/earthquakes/sichuan.url')\n",
    "a.fetch('wildfires', 'attica', 2018,        urlfilepath='disasters/wildfires/attica.url')\n",
    "a.fetch('wildfires', 'thomas', 2017,        urlfilepath='disasters/wildfires/thomas.url')\n",
    "a.fetch('wildfires', 'nevada', 2016,        urlfilepath='disasters/wildfires/nevada.url')\n",
    "a.fetch('wildfires', 'carr', 2018,          urlfilepath='disasters/wildfires/carr.url')\n",
    "a.fetch('wildfires', 'mountcarmel', 2010,   urlfilepath='disasters/wildfires/mountcarmel.url')\n",
    "a.fetch('shootings', 'virginiatech', 2007,  urlfilepath='disasters/shootings/virginiatech.url')\n",
    "a.fetch('shootings', 'sandyhook', 2012,     urlfilepath='disasters/shootings/sandyhook.url')\n",
    "a.fetch('shootings', 'aurora', 2012,        urlfilepath='disasters/shootings/aurora.url')\n",
    "a.fetch('shootings', 'sanbernardino', 2015, urlfilepath='disasters/shootings/sanbernardino.url')\n",
    "a.fetch('shootings', 'orlando', 2016,       urlfilepath='disasters/shootings/orlando.url')\n",
    "a.fetch('shootings', 'lasvegas', 2017,      urlfilepath='disasters/shootings/lasvegas.url')\n",
    "a.fetch('shootings', 'charliehebdo', 2015,  urlfilepath='disasters/shootings/charliehebdo.url')\n",
    "a.fetch('floods', 'japan18', 2018,          urlfilepath='disasters/floods/japan18.url')\n",
    "a.fetch('floods', 'kerala', 2018,           urlfilepath='disasters/floods/kerala.url')\n",
    "a.fetch('floods', 'gujarat', 2017,          urlfilepath='disasters/floods/gujarat.url')"
   ]
  },
  {
   "cell_type": "code",
   "execution_count": 5,
   "metadata": {},
   "outputs": [],
   "source": [
    "a.overwrite()"
   ]
  }
 ],
 "metadata": {
  "kernelspec": {
   "display_name": "Python 3",
   "language": "python",
   "name": "python3"
  },
  "language_info": {
   "codemirror_mode": {
    "name": "ipython",
    "version": 3
   },
   "file_extension": ".py",
   "mimetype": "text/x-python",
   "name": "python",
   "nbconvert_exporter": "python",
   "pygments_lexer": "ipython3",
   "version": "3.6.5"
  }
 },
 "nbformat": 4,
 "nbformat_minor": 2
}
