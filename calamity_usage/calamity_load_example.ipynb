{
 "cells": [
  {
   "cell_type": "code",
   "execution_count": 1,
   "metadata": {},
   "outputs": [],
   "source": [
    "from calamity import Calamity"
   ]
  },
  {
   "cell_type": "code",
   "execution_count": 2,
   "metadata": {
    "scrolled": false
   },
   "outputs": [
    {
     "name": "stdout",
     "output_type": "stream",
     "text": [
      "[+] New event stan had been added\n",
      "[+] New event maria had been added\n",
      "[+] New event matthew had been added\n",
      "[+] New event katrina had been added\n",
      "[+] New event irma had been added\n",
      "[+] New event jeanne had been added\n",
      "[+] New event kashmir had been added\n",
      "[+] New event haiti had been added\n",
      "[+] New event sumatra had been added\n",
      "[+] New event sichuan had been added\n",
      "[+] New event attica had been added\n",
      "[+] New event thomas had been added\n",
      "[+] New event nevada had been added\n",
      "[+] New event carr had been added\n",
      "[+] New event mountcarmel had been added\n",
      "[+] New event virginiatech had been added\n",
      "[+] New event sandyhook had been added\n",
      "[+] New event aurora had been added\n",
      "[+] New event sanbernardino had been added\n",
      "[+] New event orlando had been added\n",
      "[+] New event lasvegas had been added\n",
      "[+] New event charliehebdo had been added\n",
      "[+] New event japan18 had been added\n",
      "[+] New event kerala had been added\n",
      "[+] New event gujarat had been added\n",
      "Object has been successfully loaded\n"
     ]
    }
   ],
   "source": [
    "archive = Calamity('disaster-archive')"
   ]
  },
  {
   "cell_type": "code",
   "execution_count": 3,
   "metadata": {
    "scrolled": false
   },
   "outputs": [
    {
     "data": {
      "text/plain": [
       "[('hurricanes', 'stan', 30),\n",
       " ('hurricanes', 'maria', 98),\n",
       " ('hurricanes', 'matthew', 100),\n",
       " ('hurricanes', 'katrina', 99),\n",
       " ('hurricanes', 'irma', 64),\n",
       " ('hurricanes', 'jeanne', 35),\n",
       " ('earthquakes', 'kashmir', 59),\n",
       " ('earthquakes', 'haiti', 100),\n",
       " ('earthquakes', 'sumatra', 86),\n",
       " ('earthquakes', 'sichuan', 100),\n",
       " ('wildfires', 'attica', 100),\n",
       " ('wildfires', 'thomas', 82),\n",
       " ('wildfires', 'nevada', 95),\n",
       " ('wildfires', 'carr', 100),\n",
       " ('wildfires', 'mountcarmel', 19),\n",
       " ('shootings', 'virginiatech', 100),\n",
       " ('shootings', 'sandyhook', 99),\n",
       " ('shootings', 'aurora', 100),\n",
       " ('shootings', 'sanbernardino', 97),\n",
       " ('shootings', 'orlando', 99),\n",
       " ('shootings', 'lasvegas', 100),\n",
       " ('shootings', 'charliehebdo', 100),\n",
       " ('floods', 'japan18', 101),\n",
       " ('floods', 'kerala', 100),\n",
       " ('floods', 'gujarat', 80)]"
      ]
     },
     "execution_count": 3,
     "metadata": {},
     "output_type": "execute_result"
    }
   ],
   "source": [
    "archive.listTopics()"
   ]
  },
  {
   "cell_type": "code",
   "execution_count": 8,
   "metadata": {},
   "outputs": [],
   "source": [
    "katrina = archive.getEvent('katrina')"
   ]
  },
  {
   "cell_type": "code",
   "execution_count": 9,
   "metadata": {},
   "outputs": [
    {
     "data": {
      "text/plain": [
       "{'label': 'katrina', 'year': 2005, 'topic': 'hurricanes'}"
      ]
     },
     "execution_count": 9,
     "metadata": {},
     "output_type": "execute_result"
    }
   ],
   "source": [
    "katrina['meta']"
   ]
  },
  {
   "cell_type": "code",
   "execution_count": 10,
   "metadata": {},
   "outputs": [
    {
     "data": {
      "text/plain": [
       "99"
      ]
     },
     "execution_count": 10,
     "metadata": {},
     "output_type": "execute_result"
    }
   ],
   "source": [
    "len(katrina['articles'])"
   ]
  },
  {
   "cell_type": "code",
   "execution_count": 11,
   "metadata": {},
   "outputs": [
    {
     "data": {
      "text/plain": [
       "25"
      ]
     },
     "execution_count": 11,
     "metadata": {},
     "output_type": "execute_result"
    }
   ],
   "source": [
    "len(archive.listTopics())"
   ]
  }
 ],
 "metadata": {
  "kernelspec": {
   "display_name": "Python 3",
   "language": "python",
   "name": "python3"
  },
  "language_info": {
   "codemirror_mode": {
    "name": "ipython",
    "version": 3
   },
   "file_extension": ".py",
   "mimetype": "text/x-python",
   "name": "python",
   "nbconvert_exporter": "python",
   "pygments_lexer": "ipython3",
   "version": "3.6.5"
  }
 },
 "nbformat": 4,
 "nbformat_minor": 2
}
