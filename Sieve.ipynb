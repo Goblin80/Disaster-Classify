{
 "cells": [
  {
   "cell_type": "code",
   "execution_count": 2,
   "metadata": {},
   "outputs": [],
   "source": [
    "import sys\n",
    "import glob\n",
    "import nltk\n",
    "from newspaper import Article"
   ]
  },
  {
   "cell_type": "code",
   "execution_count": 3,
   "metadata": {},
   "outputs": [],
   "source": [
    "def sz(a): # str/eval\n",
    "    return {\n",
    "        'text': a.text,\n",
    "        'title': a.title,\n",
    "        'url': a.url,\n",
    "        'keywords': a.keywords,\n",
    "        'tags': a.tags,\n",
    "        'summary': a.summary,\n",
    "        'date': int(a.publish_date.timestamp()) if a.publish_date != None else None,\n",
    "        'raw' : a.html\n",
    "    }"
   ]
  },
  {
   "cell_type": "code",
   "execution_count": 4,
   "metadata": {},
   "outputs": [],
   "source": [
    "def ftch(urls):\n",
    "    b = []\n",
    "    for x in urls:\n",
    "        a = Article(x)\n",
    "        try:    \n",
    "            a.download()\n",
    "            a.parse()\n",
    "            a.nlp()\n",
    "            b.append(sz(a))\n",
    "        except:\n",
    "            print('Error at: ', x)\n",
    "    return b"
   ]
  },
  {
   "cell_type": "code",
   "execution_count": 5,
   "metadata": {},
   "outputs": [],
   "source": [
    "def urlRead(f):\n",
    "    return open(f, 'r').read().split('\\n')"
   ]
  },
  {
   "cell_type": "code",
   "execution_count": 6,
   "metadata": {},
   "outputs": [],
   "source": [
    "def objRead(f):\n",
    "    return eval(open(f, 'r').read())"
   ]
  },
  {
   "cell_type": "code",
   "execution_count": 13,
   "metadata": {},
   "outputs": [],
   "source": [
    "def objWrite(f, data):\n",
    "    f = f.split('.')[0]\n",
    "    open(f + '.lobj', 'w').write(str(data))"
   ]
  },
  {
   "cell_type": "code",
   "execution_count": 33,
   "metadata": {},
   "outputs": [
    {
     "name": "stdout",
     "output_type": "stream",
     "text": [
      "other.txt  Sieve.ipynb\r\n",
      "\r\n",
      "disasters:\r\n",
      "earthquakes  hurricanes  shootings  wildfires\r\n"
     ]
    }
   ],
   "source": [
    "!ls *"
   ]
  },
  {
   "cell_type": "code",
   "execution_count": 19,
   "metadata": {},
   "outputs": [
    {
     "name": "stdout",
     "output_type": "stream",
     "text": [
      "disasters/shootings/sandyhook.url\n",
      "disasters/shootings/sanbernardino.url\n",
      "disasters/shootings/orlando.url\n",
      "disasters/shootings/lasvegas.url\n",
      "disasters/earthquakes/kashmir.url\n",
      "disasters/earthquakes/sumatra.url\n",
      "disasters/earthquakes/haiti.url\n",
      "disasters/earthquakes/sichuan.url\n",
      "disasters/wildfires/thomas.url\n",
      "disasters/wildfires/attica.url\n",
      "disasters/wildfires/mountcarmel.url\n",
      "disasters/wildfires/nevada.url\n",
      "disasters/hurricanes/stan.url\n",
      "disasters/hurricanes/katrina.url\n",
      "disasters/hurricanes/jeanne.url\n",
      "disasters/hurricanes/maria.url\n"
     ]
    }
   ],
   "source": [
    "for f in glob.iglob('**/*.url', recursive=True):\n",
    "    print(f)"
   ]
  },
  {
   "cell_type": "code",
   "execution_count": 37,
   "metadata": {},
   "outputs": [],
   "source": [
    "# f = sys.argv[1]\n",
    "# f = 'disasters/shootings/sanbernardino.url'\n",
    "f = 'other.txt'\n",
    "urls = urlRead(f)\n",
    "d = ftch(urls)\n",
    "objWrite(f, d)"
   ]
  },
  {
   "cell_type": "code",
   "execution_count": 36,
   "metadata": {},
   "outputs": [
    {
     "name": "stderr",
     "output_type": "stream",
     "text": [
      "/root/anaconda3/lib/python3.6/site-packages/dateutil/parser/_parser.py:1204: UnknownTimezoneWarning: tzname ET identified but not understood.  Pass `tzinfos` argument in order to correctly return a timezone-aware datetime.  In a future version, this will raise an exception.\n",
      "  category=UnknownTimezoneWarning)\n"
     ]
    },
    {
     "name": "stdout",
     "output_type": "stream",
     "text": [
      "Article `download()` failed with 451 Client Error: Unavailable For Legal Reasons for url: https://www.ctpost.com/local/article/Experts-divided-over-Sandy-Hook-response-5036240.php on URL https://www.ctpost.com/local/article/Experts-divided-over-Sandy-Hook-response-5036240.php\n",
      "Error at:  https://www.ctpost.com/local/article/Experts-divided-over-Sandy-Hook-response-5036240.php\n",
      "Article `download()` failed with 451 Client Error: Unavailable For Legal Reasons for url: https://www.newstimes.com/local/article/Non-disclosure-required-for-Sandy-Hook-School-crew-4895613.php on URL https://www.newstimes.com/local/article/Non-disclosure-required-for-Sandy-Hook-School-crew-4895613.php\n",
      "Error at:  https://www.newstimes.com/local/article/Non-disclosure-required-for-Sandy-Hook-School-crew-4895613.php\n",
      "Article `download()` failed with 451 Client Error: Unavailable For Legal Reasons for url: https://www.ctpost.com/news/article/Latest-mass-shooting-renews-calls-for-gun-control-6672900.php on URL https://www.ctpost.com/news/article/Latest-mass-shooting-renews-calls-for-gun-control-6672900.php\n",
      "Error at:  https://www.ctpost.com/news/article/Latest-mass-shooting-renews-calls-for-gun-control-6672900.php\n",
      "Article `download()` failed with 451 Client Error: Unavailable For Legal Reasons for url: https://madison.com/news/terrorism-workplace-violence-among-possible-motives-in-california-mass-shooting/article_89c62c96-99ad-11e5-b0d0-2bcdbe0c8e81.html on URL https://madison.com/news/terrorism-workplace-violence-among-possible-motives-in-california-mass-shooting/article_89c62c96-99ad-11e5-b0d0-2bcdbe0c8e81.html\n",
      "Error at:  https://madison.com/news/terrorism-workplace-violence-among-possible-motives-in-california-mass-shooting/article_89c62c96-99ad-11e5-b0d0-2bcdbe0c8e81.html\n",
      "Article `download()` failed with 403 Client Error: Forbidden for url: https://www.columbian.com/news/2015/dec/02/san-bernardino-shooting/ on URL https://www.columbian.com/news/2015/dec/02/san-bernardino-shooting/\n",
      "Error at:  https://www.columbian.com/news/2015/dec/02/san-bernardino-shooting/\n",
      "Article `download()` failed with 403 Client Error: Forbidden for url: https://www.columbian.com/news/2016/jun/15/victim-vignettes-all-remembered-for-joy-love-they-brought/ on URL https://www.columbian.com/news/2016/jun/15/victim-vignettes-all-remembered-for-joy-love-they-brought/\n",
      "Error at:  https://www.columbian.com/news/2016/jun/15/victim-vignettes-all-remembered-for-joy-love-they-brought/\n",
      "Article `download()` failed with 403 Client Error: Forbidden for url: https://www.wtsp.com/article/news/surreal-scene-at-pulse-after-attack/241203546 on URL https://www.wtsp.com/article/news/surreal-scene-at-pulse-after-attack/241203546\n",
      "Error at:  https://www.wtsp.com/article/news/surreal-scene-at-pulse-after-attack/241203546\n",
      "Article `download()` failed with 403 Client Error: Forbidden for url: https://www.wfaa.com/article/news/crime/gunmans-wife-says-she-tried-to-talk-him-out-of-attack/243745269 on URL https://www.wfaa.com/article/news/crime/gunmans-wife-says-she-tried-to-talk-him-out-of-attack/243745269\n",
      "Error at:  https://www.wfaa.com/article/news/crime/gunmans-wife-says-she-tried-to-talk-him-out-of-attack/243745269\n",
      "Article `download()` failed with 403 Client Error: Forbidden for url: https://www.kens5.com/article/news/obama-act-of-terror-and-act-of-hate-at-orlando-nightclub/240839019 on URL https://www.kens5.com/article/news/obama-act-of-terror-and-act-of-hate-at-orlando-nightclub/240839019\n",
      "Error at:  https://www.kens5.com/article/news/obama-act-of-terror-and-act-of-hate-at-orlando-nightclub/240839019\n",
      "Article `download()` failed with 403 Client Error: Forbidden for url: https://www.wcnc.com/article/news/nation-now/orlando-shooting/nbc-orlando-shooters-wife-tried-to-talk-him-out-of-attack/243797563 on URL https://www.wcnc.com/article/news/nation-now/orlando-shooting/nbc-orlando-shooters-wife-tried-to-talk-him-out-of-attack/243797563\n",
      "Error at:  https://www.wcnc.com/article/news/nation-now/orlando-shooting/nbc-orlando-shooters-wife-tried-to-talk-him-out-of-attack/243797563\n",
      "Article `download()` failed with 404 Client Error: Not Found for url: https://www.nbcnews.com/storyline/las-vegas-shooting/las-vegas-police-investigating-shooting-mandalay-bay-n806461https://www.reviewjournal.com/crime/shootings/mass-shooting-on-the-las-vegas-strip-timeline/ on URL https://www.nbcnews.com/storyline/las-vegas-shooting/las-vegas-police-investigating-shooting-mandalay-bay-n806461https://www.reviewjournal.com/crime/shootings/mass-shooting-on-the-las-vegas-strip-timeline/\n",
      "Error at:  https://www.nbcnews.com/storyline/las-vegas-shooting/las-vegas-police-investigating-shooting-mandalay-bay-n806461https://www.reviewjournal.com/crime/shootings/mass-shooting-on-the-las-vegas-strip-timeline/\n",
      "Article `download()` failed with 403 Client Error: Forbidden for url: https://www.wtsp.com/article/news/at-least-20-dead-100-injured-in-las-vegas-strip-shooting/103-480044674 on URL https://www.wtsp.com/article/news/at-least-20-dead-100-injured-in-las-vegas-strip-shooting/103-480044674\n",
      "Error at:  https://www.wtsp.com/article/news/at-least-20-dead-100-injured-in-las-vegas-strip-shooting/103-480044674\n",
      "Article `download()` failed with 403 Client Error: Forbidden for url: https://www.thv11.com/article/news/nation-world/las-vegas-shooting-all-but-3-victims-identified/507-480058729 on URL https://www.thv11.com/article/news/nation-world/las-vegas-shooting-all-but-3-victims-identified/507-480058729\n",
      "Error at:  https://www.thv11.com/article/news/nation-world/las-vegas-shooting-all-but-3-victims-identified/507-480058729\n",
      "Article `download()` failed with 403 Client Error: Forbidden for url: https://www.wfaa.com/article/news/nation-now/officers-paint-minute-by-minute-picture-of-las-vegas-shooting/480243896 on URL https://www.wfaa.com/article/news/nation-now/officers-paint-minute-by-minute-picture-of-las-vegas-shooting/480243896\n",
      "Error at:  https://www.wfaa.com/article/news/nation-now/officers-paint-minute-by-minute-picture-of-las-vegas-shooting/480243896\n",
      "You must `download()` an article first!\n",
      "Error at:  \n",
      "You must `download()` an article first!\n",
      "Error at:  \n",
      "Article `download()` failed with 405 Client Error: Not Allowed for url: https://www.ogj.com/articles/2005/01/oil-operations-escape-tsunami-damage.html on URL https://www.ogj.com/articles/2005/01/oil-operations-escape-tsunami-damage.html\n",
      "Error at:  https://www.ogj.com/articles/2005/01/oil-operations-escape-tsunami-damage.html\n",
      "You must `download()` an article first!\n",
      "Error at:  https://timesofindia.indiatimes.com/india/India-shows-its-sphere-of-influence-to-the-world/articleshow/981705.cms\n",
      "Article `download()` failed with 403 Client Error: Forbidden for url: https://allafrica.com/stories/200501050193.html on URL https://allafrica.com/stories/200501050193.html\n",
      "Error at:  https://allafrica.com/stories/200501050193.html\n",
      "Article `download()` failed with 503 Server Error: Service Unavailable for url: https://www.telegraph.co.uk/news/worldnews/centralamericaandthecaribbean/haiti/6978665/Haiti-earthquake-thousands-feared-dead.html on URL https://www.telegraph.co.uk/news/worldnews/centralamericaandthecaribbean/haiti/6978665/Haiti-earthquake-thousands-feared-dead.html\n",
      "Error at:  https://www.telegraph.co.uk/news/worldnews/centralamericaandthecaribbean/haiti/6978665/Haiti-earthquake-thousands-feared-dead.html\n",
      "Article `download()` failed with 503 Server Error: Service Unavailable for url: https://www.telegraph.co.uk/news/worldnews/centralamericaandthecaribbean/haiti/7003057/Haiti-earthquake-death-toll-may-hit-200000.html on URL https://www.telegraph.co.uk/news/worldnews/centralamericaandthecaribbean/haiti/7003057/Haiti-earthquake-death-toll-may-hit-200000.html\n",
      "Error at:  https://www.telegraph.co.uk/news/worldnews/centralamericaandthecaribbean/haiti/7003057/Haiti-earthquake-death-toll-may-hit-200000.html\n",
      "Article `download()` failed with 503 Server Error: Service Unavailable for url: https://www.telegraph.co.uk/news/worldnews/centralamericaandthecaribbean/haiti/7043723/Haiti-earthquake-US-sends-4000-more-troops.html on URL https://www.telegraph.co.uk/news/worldnews/centralamericaandthecaribbean/haiti/7043723/Haiti-earthquake-US-sends-4000-more-troops.html\n",
      "Error at:  https://www.telegraph.co.uk/news/worldnews/centralamericaandthecaribbean/haiti/7043723/Haiti-earthquake-US-sends-4000-more-troops.html\n"
     ]
    },
    {
     "name": "stdout",
     "output_type": "stream",
     "text": [
      "You must `download()` an article first!\n",
      "Error at:  \n",
      "Article `download()` failed with 503 Server Error: Service Unavailable for url: https://www.telegraph.co.uk/news/worldnews/asia/china/2668021/Sichuan-earthquake-Body-of-mother-sheltering-child-found-under-rubble.html on URL https://www.telegraph.co.uk/news/worldnews/asia/china/2668021/Sichuan-earthquake-Body-of-mother-sheltering-child-found-under-rubble.html\n",
      "Error at:  https://www.telegraph.co.uk/news/worldnews/asia/china/2668021/Sichuan-earthquake-Body-of-mother-sheltering-child-found-under-rubble.html\n",
      "Article `download()` failed with 503 Server Error: Service Unavailable for url: https://www.telegraph.co.uk/news/worldnews/asia/china/4030640/Grim-conditions-force-Chinese-president-to-revisit-site-of-Sichuan-earthquake.html on URL https://www.telegraph.co.uk/news/worldnews/asia/china/4030640/Grim-conditions-force-Chinese-president-to-revisit-site-of-Sichuan-earthquake.html\n",
      "Error at:  https://www.telegraph.co.uk/news/worldnews/asia/china/4030640/Grim-conditions-force-Chinese-president-to-revisit-site-of-Sichuan-earthquake.html\n",
      "Article `download()` failed with 503 Server Error: Service Unavailable for url: https://www.telegraph.co.uk/news/worldnews/asia/china/2631163/Sichuan-earthquake-orphans-fail-to-find-home.html on URL https://www.telegraph.co.uk/news/worldnews/asia/china/2631163/Sichuan-earthquake-orphans-fail-to-find-home.html\n",
      "Error at:  https://www.telegraph.co.uk/news/worldnews/asia/china/2631163/Sichuan-earthquake-orphans-fail-to-find-home.html\n",
      "Article `download()` failed with 503 Server Error: Service Unavailable for url: https://www.telegraph.co.uk/news/worldnews/asia/china/1950212/China-earthquake-brings-out-citizen-journalists.html on URL https://www.telegraph.co.uk/news/worldnews/asia/china/1950212/China-earthquake-brings-out-citizen-journalists.html\n",
      "Error at:  https://www.telegraph.co.uk/news/worldnews/asia/china/1950212/China-earthquake-brings-out-citizen-journalists.html\n",
      "Article `download()` failed with 503 Server Error: Service Unavailable for url: https://www.telegraph.co.uk/news/worldnews/asia/china/1958410/China-earthquake-Blogs-claim-swarming-toads-warned-of-Sichuan-disaster.html on URL https://www.telegraph.co.uk/news/worldnews/asia/china/1958410/China-earthquake-Blogs-claim-swarming-toads-warned-of-Sichuan-disaster.html\n",
      "Error at:  https://www.telegraph.co.uk/news/worldnews/asia/china/1958410/China-earthquake-Blogs-claim-swarming-toads-warned-of-Sichuan-disaster.html\n",
      "Article `download()` failed with 503 Server Error: Service Unavailable for url: https://www.telegraph.co.uk/news/worldnews/asia/china/1987837/Chinese-earthquake-Giant-pandas-rescued.html on URL https://www.telegraph.co.uk/news/worldnews/asia/china/1987837/Chinese-earthquake-Giant-pandas-rescued.html\n",
      "Error at:  https://www.telegraph.co.uk/news/worldnews/asia/china/1987837/Chinese-earthquake-Giant-pandas-rescued.html\n",
      "Article `download()` failed with 451 Client Error: Unavailable For Legal Reasons for url: https://lompocrecord.com/news/local/thomas-fire-officially-out-six-months-after-it-sparked-and/article_70f40dbb-2b12-5345-9d0e-0cf3a1139e71.html on URL https://lompocrecord.com/news/local/thomas-fire-officially-out-six-months-after-it-sparked-and/article_70f40dbb-2b12-5345-9d0e-0cf3a1139e71.html\n",
      "Error at:  https://lompocrecord.com/news/local/thomas-fire-officially-out-six-months-after-it-sparked-and/article_70f40dbb-2b12-5345-9d0e-0cf3a1139e71.html\n",
      "You must `download()` an article first!\n",
      "Error at:  \n",
      "Article `download()` failed with 451 Client Error: Unavailable For Legal Reasons for url: http://www.montereycountyweekly.com/blogs/news_blog/soberanes-fire-started-by-illegal-campfire-at-state-park/article_b245f994-5906-11e6-9ad4-1f9d1a346259.html on URL http://www.montereycountyweekly.com/blogs/news_blog/soberanes-fire-started-by-illegal-campfire-at-state-park/article_b245f994-5906-11e6-9ad4-1f9d1a346259.html\n",
      "Error at:  http://www.montereycountyweekly.com/blogs/news_blog/soberanes-fire-started-by-illegal-campfire-at-state-park/article_b245f994-5906-11e6-9ad4-1f9d1a346259.html\n",
      "Article `download()` failed with 403 Client Error: Forbidden for url: https://www.columbian.com/news/2016/aug/02/washington-fire-crews-gusty-winds/ on URL https://www.columbian.com/news/2016/aug/02/washington-fire-crews-gusty-winds/\n",
      "Error at:  https://www.columbian.com/news/2016/aug/02/washington-fire-crews-gusty-winds/\n",
      "Article `download()` failed with 403 Client Error: Forbidden for url: https://www.abc10.com/article/news/local/fire-burning-in-south-lake-tahoe-prompts-evacuations-road-closures/336030125 on URL https://www.abc10.com/article/news/local/fire-burning-in-south-lake-tahoe-prompts-evacuations-road-closures/336030125\n",
      "Error at:  https://www.abc10.com/article/news/local/fire-burning-in-south-lake-tahoe-prompts-evacuations-road-closures/336030125\n",
      "Article `download()` failed with 403 Client Error: Forbidden for url: https://www.abc10.com/article/amp/weather/the-detwiler-fire-x-factor-dead-trees/457868299 on URL https://www.abc10.com/article/amp/weather/the-detwiler-fire-x-factor-dead-trees/457868299\n",
      "Error at:  https://www.abc10.com/article/amp/weather/the-detwiler-fire-x-factor-dead-trees/457868299\n",
      "You must `download()` an article first!\n",
      "Error at:  \n"
     ]
    }
   ],
   "source": [
    "for f in glob.iglob('**/*.url', recursive=True):\n",
    "    objWrite(f, ftch(urlRead(f)))"
   ]
  },
  {
   "cell_type": "code",
   "execution_count": 15,
   "metadata": {},
   "outputs": [],
   "source": [
    "for f in glob.iglob('**/*.obj', recursive=True):\n",
    "    obj = objRead(f)\n",
    "    for x in obj:\n",
    "        del x['raw']\n",
    "    objWrite(f, obj)"
   ]
  },
  {
   "cell_type": "code",
   "execution_count": 16,
   "metadata": {},
   "outputs": [],
   "source": [
    "a = objRead('disasters/shootings/lasvegas.lobj')"
   ]
  },
  {
   "cell_type": "code",
   "execution_count": 20,
   "metadata": {},
   "outputs": [
    {
     "data": {
      "text/plain": [
       "{'text': 'My fellow Americans. we are joined together today in sadness, shock and grief. Last night a gunman opened fire on a large crowd at a country music concert in Las Vegas, Nevada. He brutally murdered more than 50 people and wounded hundreds more. It was an act of pure evil. The FBI and the Department of Homeland Security are working closely with local authorities to assist with the investigation and they will provide updates as to the investigation and how it develops.',\n",
       " 'title': 'What we know so far about the Las Vegas shooting',\n",
       " 'url': 'https://www.theguardian.com/us-news/2017/oct/02/las-vegas-shooting-what-we-know-so-far',\n",
       " 'keywords': ['shooting',\n",
       "  'shock',\n",
       "  'wounded',\n",
       "  'know',\n",
       "  'working',\n",
       "  'far',\n",
       "  'sadness',\n",
       "  'las',\n",
       "  'updates',\n",
       "  'vegas',\n",
       "  'today',\n",
       "  'security',\n",
       "  'pure',\n",
       "  'investigation'],\n",
       " 'tags': set(),\n",
       " 'summary': 'we are joined together today in sadness, shock and grief.\\nLast night a gunman opened fire on a large crowd at a country music concert in Las Vegas, Nevada.\\nHe brutally murdered more than 50 people and wounded hundreds more.\\nIt was an act of pure evil.\\nThe FBI and the Department of Homeland Security are working closely with local authorities to assist with the investigation and they will provide updates as to the investigation and how it develops.',\n",
       " 'date': 1506902400}"
      ]
     },
     "execution_count": 20,
     "metadata": {},
     "output_type": "execute_result"
    }
   ],
   "source": [
    "a[2]"
   ]
  },
  {
   "cell_type": "code",
   "execution_count": null,
   "metadata": {},
   "outputs": [],
   "source": []
  }
 ],
 "metadata": {
  "kernelspec": {
   "display_name": "Python 3",
   "language": "python",
   "name": "python3"
  },
  "language_info": {
   "codemirror_mode": {
    "name": "ipython",
    "version": 3
   },
   "file_extension": ".py",
   "mimetype": "text/x-python",
   "name": "python",
   "nbconvert_exporter": "python",
   "pygments_lexer": "ipython3",
   "version": "3.6.5"
  }
 },
 "nbformat": 4,
 "nbformat_minor": 2
}
